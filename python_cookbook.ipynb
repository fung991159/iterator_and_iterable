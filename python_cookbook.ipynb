{
 "metadata": {
  "language_info": {
   "codemirror_mode": {
    "name": "ipython",
    "version": 3
   },
   "file_extension": ".py",
   "mimetype": "text/x-python",
   "name": "python",
   "nbconvert_exporter": "python",
   "pygments_lexer": "ipython3",
   "version": "3.8.1-final"
  },
  "orig_nbformat": 2,
  "kernelspec": {
   "name": "python38164bitbasevirtualenv0f88bcedf4814bbcb3017701842fa729",
   "display_name": "Python 3.8.1 64-bit ('base': virtualenv)"
  }
 },
 "nbformat": 4,
 "nbformat_minor": 2,
 "cells": [
  {
   "cell_type": "markdown",
   "metadata": {
    "tags": []
   },
   "source": [
    "### Reading through Python Cookbook, notedown some interesting receipe"
   ]
  },
  {
   "cell_type": "code",
   "execution_count": 15,
   "metadata": {
    "tags": []
   },
   "outputs": [
    {
     "output_type": "stream",
     "name": "stdout",
     "text": "(45.23, 'ACME')\n(612.78, 'AAPL')\n(205.55, 'IBM')\n(37.2, 'HPQ')\n(10.75, 'FB')\n[(10.75, 'FB'), (37.2, 'HPQ'), (45.23, 'ACME'), (205.55, 'IBM'), (612.78, 'AAPL')]\n"
    }
   ],
   "source": [
    "# 1.8\n",
    "# intersting to know dictionary can flip over key-value with zip\n",
    "# afterward can also apply min/max/sort function to the result, pretty handy\n",
    "prices = {\n",
    "'ACME': 45.23,\n",
    "'AAPL': 612.78,\n",
    "'IBM': 205.55,\n",
    "'HPQ': 37.20,\n",
    "'FB': 10.75\n",
    "} \n",
    "\n",
    "for val in zip(prices.values(), prices.keys()):\n",
    "    print (val)\n",
    "\n",
    "prices_sorted = sorted(zip(prices.values(), prices.keys()))\n",
    "print(prices_sorted)\n",
    "\n"
   ]
  },
  {
   "cell_type": "code",
   "execution_count": 32,
   "metadata": {
    "tags": []
   },
   "outputs": [
    {
     "output_type": "stream",
     "name": "stdout",
     "text": "{'x', 'y'}\n{'z'}\n{('y', 2)}\n"
    }
   ],
   "source": [
    "# 1.9 Dictionary Keys and Values is actually an object and can use some basic set-like ops\n",
    "a = {\n",
    "'x' : 1,\n",
    "'y' : 2,\n",
    "'z' : 3\n",
    "}\n",
    "b = {\n",
    "'w' : 10,\n",
    "'x' : 11,\n",
    "'y' : 2\n",
    "}\n",
    "\n",
    "# Find keys in common\n",
    "print(a.keys() & b.keys())\n",
    " # { 'x', 'y' }\n",
    "# Find keys in a that are not in b\n",
    "print(a.keys() - b.keys())\n",
    " # { 'z' }\n",
    "# Find (key,value) pairs in common\n",
    "print(a.items() & b.items()) # { ('y', 2) }\n"
   ]
  },
  {
   "cell_type": "code",
   "execution_count": 30,
   "metadata": {},
   "outputs": [
    {
     "output_type": "execute_result",
     "data": {
      "text/plain": "ChainMap({'x': 2}, {'x': 1})"
     },
     "metadata": {},
     "execution_count": 30
    }
   ],
   "source": [
    "# 1.20 ChainMap merge two dict without actually merging it (efficient), any change will\n",
    "# be place on the first dict\n",
    "from collections import ChainMap\n",
    "values = ChainMap()\n",
    "values['x'] = 1\n",
    "values = values.new_child()\n",
    "values['x'] = 2\n",
    "values"
   ]
  },
  {
   "cell_type": "code",
   "execution_count": null,
   "metadata": {},
   "outputs": [],
   "source": [
    "values = ChainMap()\n",
    ">>> values = ChainMap()\n",
    ">>> values['x'] = 1\n",
    ">>> # Add a new mapping\n",
    ">>> values = values.new_child()\n",
    ">>> values['x'] = 2\n",
    ">>> # Add a new mapping\n",
    ">>> values = values.new_child()\n",
    ">>> values['x'] = 3\n",
    ">>> values\n"
   ]
  }
 ]
}