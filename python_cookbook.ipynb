{
 "metadata": {
  "language_info": {
   "codemirror_mode": {
    "name": "ipython",
    "version": 3
   },
   "file_extension": ".py",
   "mimetype": "text/x-python",
   "name": "python",
   "nbconvert_exporter": "python",
   "pygments_lexer": "ipython3",
   "version": "3.8.1-final"
  },
  "orig_nbformat": 2,
  "kernelspec": {
   "name": "python38164bitbasevirtualenv0f88bcedf4814bbcb3017701842fa729",
   "display_name": "Python 3.8.1 64-bit ('base': virtualenv)"
  }
 },
 "nbformat": 4,
 "nbformat_minor": 2,
 "cells": [
  {
   "cell_type": "markdown",
   "metadata": {
    "tags": []
   },
   "source": [
    "### Reading through Python Cookbook, notedown some interesting receipe"
   ]
  },
  {
   "cell_type": "code",
   "execution_count": 15,
   "metadata": {
    "tags": []
   },
   "outputs": [
    {
     "output_type": "stream",
     "name": "stdout",
     "text": "(45.23, 'ACME')\n(612.78, 'AAPL')\n(205.55, 'IBM')\n(37.2, 'HPQ')\n(10.75, 'FB')\n[(10.75, 'FB'), (37.2, 'HPQ'), (45.23, 'ACME'), (205.55, 'IBM'), (612.78, 'AAPL')]\n"
    }
   ],
   "source": [
    "# 1.8\n",
    "# intersting to know dictionary can flip over key-value with zip\n",
    "# afterward can also apply min/max/sort function to the result, pretty handy\n",
    "prices = {\n",
    "'ACME': 45.23,\n",
    "'AAPL': 612.78,\n",
    "'IBM': 205.55,\n",
    "'HPQ': 37.20,\n",
    "'FB': 10.75\n",
    "} \n",
    "\n",
    "for val in zip(prices.values(), prices.keys()):\n",
    "    print (val)\n",
    "\n",
    "prices_sorted = sorted(zip(prices.values(), prices.keys()))\n",
    "print(prices_sorted)\n",
    "\n"
   ]
  },
  {
   "cell_type": "code",
   "execution_count": 32,
   "metadata": {
    "tags": []
   },
   "outputs": [
    {
     "output_type": "stream",
     "name": "stdout",
     "text": "{'x', 'y'}\n{'z'}\n{('y', 2)}\n"
    }
   ],
   "source": [
    "# 1.9 Dictionary Keys and Values is actually an object and can use some basic set-like ops\n",
    "a = {\n",
    "'x' : 1,\n",
    "'y' : 2,\n",
    "'z' : 3\n",
    "}\n",
    "b = {\n",
    "'w' : 10,\n",
    "'x' : 11,\n",
    "'y' : 2\n",
    "}\n",
    "\n",
    "# Find keys in common\n",
    "print(a.keys() & b.keys())\n",
    " # { 'x', 'y' }\n",
    "# Find keys in a that are not in b\n",
    "print(a.keys() - b.keys())\n",
    " # { 'z' }\n",
    "# Find (key,value) pairs in common\n",
    "print(a.items() & b.items()) # { ('y', 2) }\n"
   ]
  },
  {
   "cell_type": "code",
   "execution_count": 35,
   "metadata": {
    "tags": []
   },
   "outputs": [
    {
     "output_type": "stream",
     "name": "stdout",
     "text": "1\n2\n3\n"
    }
   ],
   "source": [
    "# 1.20 ChainMap merge two dict without actually merging it, any change will\n",
    "# be place on the first dict. It is more memory efficient than creating / mutating a existing dict\n",
    "from collections import ChainMap\n",
    "a = {'x': 1, 'z': 3 }\n",
    "b = {'y': 2, 'z': 4 }\n",
    "c = ChainMap(a,b)\n",
    "print(c['x'])\n",
    "print(c['y'])\n",
    "print(c['z']) # only first dict value return\n"
   ]
  },
  {
   "cell_type": "code",
   "execution_count": 5,
   "metadata": {},
   "outputs": [
    {
     "output_type": "execute_result",
     "data": {
      "text/plain": "True"
     },
     "metadata": {},
     "execution_count": 5
    }
   ],
   "source": [
    "# 2.2 It is possible to match multiple string with startwith and endwith, \n",
    "# but the input must be a tuple. This is much prefere than the using regex \n",
    "# in term of performance\n",
    "\n",
    "f = 'test.csv'\n",
    "target_suffix = ('.txt', 'csv', 'xlsx')\n",
    "f.endswith(target_suffix)"
   ]
  },
  {
   "cell_type": "code",
   "execution_count": null,
   "metadata": {},
   "outputs": [],
   "source": [
    "# 2.3 string operator > fnmatch > regex\n",
    "# fnmatch can be used in non filename match also"
   ]
  },
  {
   "cell_type": "code",
   "execution_count": 6,
   "metadata": {},
   "outputs": [],
   "source": [
    "# 2.8 regex matching c style / sql style comment\n",
    "# /\\*((?:.|\\n)*?)\\*/\n",
    "# (?:) - is for matching group but without capturing them "
   ]
  },
  {
   "cell_type": "code",
   "execution_count": 12,
   "metadata": {
    "tags": []
   },
   "outputs": [
    {
     "output_type": "stream",
     "name": "stdout",
     "text": "HelloWorld\nIs\nIsChicago\nIsChicagoNot\nIsChicagoNotChicago?\n"
    }
   ],
   "source": [
    "# 2.14 It is bad to do this to concat string, thought I often do it, probably a bad habit carry over from VBA\n",
    "# This will create a lot of temporary useless variable\n",
    "parts = ['Hello', 'World']\n",
    "s = ''\n",
    "for p in parts:\n",
    "    s += p\n",
    "# instead imply using .join is better\n",
    "print(''.join(parts))\n",
    "\n",
    "# This chapter also provided an example of printing string base on text size using generator,\n",
    "# quite interesting\n",
    "def sample():\n",
    "    yield 'Is'\n",
    "    yield 'Chicago'\n",
    "    yield 'Not'\n",
    "    yield 'Chicago?'\n",
    "\n",
    "def combine(source, maxsize):\n",
    "    parts = []\n",
    "    size = 0\n",
    "    for part in source:\n",
    "        parts.append(part)\n",
    "        size += len(part)\n",
    "        if size > maxsize:\n",
    "            yield ''.join(parts)\n",
    "            parts = []\n",
    "            size = 0\n",
    "        yield ''.join(parts)\n"
   ]
  },
  {
   "cell_type": "code",
   "execution_count": 1,
   "metadata": {},
   "outputs": [],
   "source": [
    "# 5.2\n",
    "# hmm, there is a way to print statment directly to a file like so,\n",
    "# it doesn't have a lot of practical purpose, but always something new to know\n",
    "with open('test.txt', 'w') as f:\n",
    "    print('hi', file=f)"
   ]
  },
  {
   "cell_type": "code",
   "execution_count": 1,
   "metadata": {},
   "outputs": [
    {
     "output_type": "error",
     "ename": "FileExistsError",
     "evalue": "[Errno 17] File exists: 'test.txt'",
     "traceback": [
      "\u001b[0;31m---------------------------------------------------------------------------\u001b[0m",
      "\u001b[0;31mFileExistsError\u001b[0m                           Traceback (most recent call last)",
      "\u001b[0;32m<ipython-input-1-93fa39e40c1c>\u001b[0m in \u001b[0;36m<module>\u001b[0;34m\u001b[0m\n\u001b[1;32m      1\u001b[0m \u001b[0;31m# 5.5\u001b[0m\u001b[0;34m\u001b[0m\u001b[0;34m\u001b[0m\u001b[0;34m\u001b[0m\u001b[0m\n\u001b[1;32m      2\u001b[0m \u001b[0;31m# this is pretty good, x-mode is like w-mode, but when file already exist it will raise an error instead of replace\u001b[0m\u001b[0;34m\u001b[0m\u001b[0;34m\u001b[0m\u001b[0;34m\u001b[0m\u001b[0m\n\u001b[0;32m----> 3\u001b[0;31m \u001b[0;32mwith\u001b[0m \u001b[0mopen\u001b[0m\u001b[0;34m(\u001b[0m\u001b[0;34m'test.txt'\u001b[0m\u001b[0;34m,\u001b[0m \u001b[0;34m'x'\u001b[0m\u001b[0;34m)\u001b[0m \u001b[0;32mas\u001b[0m \u001b[0mf\u001b[0m\u001b[0;34m:\u001b[0m\u001b[0;34m\u001b[0m\u001b[0;34m\u001b[0m\u001b[0m\n\u001b[0m\u001b[1;32m      4\u001b[0m     \u001b[0mf\u001b[0m\u001b[0;34m.\u001b[0m\u001b[0mwrite\u001b[0m\u001b[0;34m(\u001b[0m\u001b[0;34m'test'\u001b[0m\u001b[0;34m)\u001b[0m\u001b[0;34m\u001b[0m\u001b[0;34m\u001b[0m\u001b[0m\n",
      "\u001b[0;31mFileExistsError\u001b[0m: [Errno 17] File exists: 'test.txt'"
     ]
    }
   ],
   "source": [
    "# 5.5\n",
    "# this is pretty good, x-mode is like w-mode, but when file already exist it will raise an error instead of replace\n",
    "with open('test.txt', 'x') as f:\n",
    "    f.write('test')"
   ]
  },
  {
   "cell_type": "code",
   "execution_count": 8,
   "metadata": {
    "tags": []
   },
   "outputs": [
    {
     "output_type": "stream",
     "name": "stdout",
     "text": "No b value supplied\n"
    }
   ],
   "source": [
    "# 7.5\n",
    "# this recipe talks about the usual function default value for mutable object issue\n",
    "# but what interesting is the solution of using an generic object as default value\n",
    "_no_value = object()\n",
    "def spam(a, b=_no_value):\n",
    "    if b is _no_value:\n",
    "        print('No b value supplied')\n",
    "\n",
    "spam(1) # No b value supplied\n",
    "spam(1,'a') \n",
    "\n",
    "# this way \"None\" can also be a accepted optional input\n"
   ]
  },
  {
   "cell_type": "code",
   "execution_count": null,
   "metadata": {},
   "outputs": [],
   "source": [
    "# 7.8 functool.partial can prefix a function arguments with certain values and return a new functino with less function para\n",
    "# It is essential for some function which only takes a functino with single para, such as sort() key.abs\n"
   ]
  },
  {
   "cell_type": "code",
   "execution_count": null,
   "metadata": {},
   "outputs": [],
   "source": [
    "# 7.9 this provide a pretty good use case for \"closure\". it is often a better alternative for single method class, as \n",
    "# the purpose of a class is usually to store a state, which can be done in closure as well\n",
    "# A closure is just a function with additional external environment varaible when defined"
   ]
  },
  {
   "cell_type": "code",
   "execution_count": 9,
   "metadata": {
    "tags": []
   },
   "outputs": [
    {
     "output_type": "stream",
     "name": "stdout",
     "text": "5\nhelloworld\n0\n2\n4\n6\n8\n10\n12\n14\n16\n18\nGoodbye\n"
    }
   ],
   "source": [
    "# 7.11 This is a pretty cool demonstration of usage of coroutine/generator with .send()\n",
    "# the .send() was used to control the flow in the caller, instead of the other way around\n",
    "\n",
    "def apply_async(func, args, *, callback):\n",
    "    # Compute the result\n",
    "    result = func(*args)\n",
    "    # Invoke the callback with the result\n",
    "    callback(result)\n",
    "\n",
    "from queue import Queue\n",
    "from functools import wraps\n",
    "class Async:\n",
    "    def __init__(self, func, args):\n",
    "        self.func = func\n",
    "        self.args = args\n",
    "\n",
    "def inlined_async(func):\n",
    "    @wraps(func)\n",
    "    def wrapper(*args):\n",
    "        f = func(*args)\n",
    "        result_queue = Queue()\n",
    "        result_queue.put(None) # start generator\n",
    "        while True:\n",
    "            result = result_queue.get()\n",
    "            try:\n",
    "                a = f.send(result) # send result back to outer function\n",
    "                apply_async(a.func, a.args, callback=result_queue.put) # cal result and put in result_queue\n",
    "            except StopIteration:\n",
    "                break\n",
    "    return wrapper\n",
    "\n",
    "def add(x, y):\n",
    "    return x + y\n",
    "\n",
    "@inlined_async\n",
    "def test():\n",
    "    r = yield Async(add, (2, 3))\n",
    "    print(r)\n",
    "    r = yield Async(add, ('hello', 'world'))\n",
    "    print(r)\n",
    "    for n in range(10):\n",
    "        r = yield Async(add, (n, n))\n",
    "        print(r)\n",
    "    print('Goodbye')\n",
    "\n",
    "test()"
   ]
  },
  {
   "cell_type": "code",
   "execution_count": null,
   "metadata": {},
   "outputs": [],
   "source": [
    "# 7.12 Adding setter and getter for clousure function. This is a lot more like a class instance, though it can be faster because no \"self\" variable were used"
   ]
  }
 ]
}